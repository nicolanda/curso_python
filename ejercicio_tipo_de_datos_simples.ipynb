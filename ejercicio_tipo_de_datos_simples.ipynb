{
 "cells": [
  {
   "cell_type": "code",
   "execution_count": 1,
   "id": "bb121b1e",
   "metadata": {},
   "outputs": [
    {
     "name": "stdout",
     "output_type": "stream",
     "text": [
      "hola mundo.\n"
     ]
    }
   ],
   "source": [
    "##### Ejercicio 1 Escribir un programa que muestre por pantalla la cadena ¡Hola Mundo!.\n",
    "print (\"hola mundo.\")"
   ]
  },
  {
   "cell_type": "code",
   "execution_count": 24,
   "id": "5e0e0554",
   "metadata": {},
   "outputs": [
    {
     "data": {
      "text/plain": [
       "'hola mundo'"
      ]
     },
     "execution_count": 24,
     "metadata": {},
     "output_type": "execute_result"
    }
   ],
   "source": [
    "#### Escribir un programa que almacene la cadena ¡Hola Mundo! en una variable y luego muestre por pantalla el contenido de la variable.\n",
    "a = \"hola mundo\"\n",
    "a"
   ]
  },
  {
   "cell_type": "code",
   "execution_count": 4,
   "id": "8097c9f3",
   "metadata": {},
   "outputs": [
    {
     "name": "stdout",
     "output_type": "stream",
     "text": [
      "¿Cual es tu nombre?\n",
      "nicolas\n",
      "¡Hola, nicolas\n"
     ]
    }
   ],
   "source": [
    "####Ejercicio 3 Escribir un programa que pregunte el nombre del usuario en la consola y después de que el usuario lo introduzca muestre por pantalla la cadena ¡Hola <nombre>!, donde <nombre> es el nombre que el usuario haya introducido\n",
    "print(\"¿Cual es tu nombre?\")\n",
    "nombre = input()\n",
    "print(f\"¡Hola, {nombre}!\")"
   ]
  },
  {
   "cell_type": "code",
   "execution_count": 5,
   "id": "c9062653",
   "metadata": {},
   "outputs": [
    {
     "data": {
      "text/plain": [
       "0.25"
      ]
     },
     "execution_count": 5,
     "metadata": {},
     "output_type": "execute_result"
    }
   ],
   "source": [
    "#### Ejercicio 4,Escribir un programa que muestre por pantalla el resultado de la siguiente operación aritmética\n",
    "a = ((3+2)/(2*5))**2\n",
    "a"
   ]
  },
  {
   "cell_type": "code",
   "execution_count": 8,
   "id": "eec4f7cb",
   "metadata": {},
   "outputs": [
    {
     "name": "stdout",
     "output_type": "stream",
     "text": [
      "Cuantas horas trabajaste: 20\n",
      "Cuanto cobras por hora: 10\n",
      "Al trabajador se le debe pagar 200.0 pesos colombianos.\n"
     ]
    }
   ],
   "source": [
    "#### Ejercicio 5 Escribir un programa que pregunte al usuario por el número de horas trabajadas y el coste por hora. Después debe mostrar por pantalla la paga que le corresponde\n",
    "horas = float(input(\"Cuantas horas trabajaste: \"));\n",
    "costo = float (input (\"Cuanto cobras por hora: \"));\n",
    "total =  costo * horas;\n",
    "print(f\"Al trabajador se le debe pagar {total} pesos colombianos.\")"
   ]
  },
  {
   "cell_type": "code",
   "execution_count": 19,
   "id": "a474e868",
   "metadata": {},
   "outputs": [
    {
     "name": "stdout",
     "output_type": "stream",
     "text": [
      "Digite el numero: 10\n",
      "la suma de los números enteros desde 1 hasta: 10 es: 55.0\n"
     ]
    }
   ],
   "source": [
    "#### Ejercicio 6, Escribir un programa que lea un entero positivo, , introducido por el usuario y después muestre en pantalla la suma de todos los enteros desde 1 hasta . La suma de los  primeros enteros positivos puede ser calculada de la siguiente forma:\n",
    "n = int(input(\"Digite el numero: \"));\n",
    "suma = (n*(n+1))/2\n",
    "print (\"la suma de los números enteros desde 1 hasta: \" + str(n) + \" es: \" + str(suma))"
   ]
  },
  {
   "cell_type": "code",
   "execution_count": 23,
   "id": "9305d9fe",
   "metadata": {},
   "outputs": [
    {
     "name": "stdout",
     "output_type": "stream",
     "text": [
      "porfavor ingrese su peso en kilogramos: 78\n",
      "porfavor ingrese su estarua en metros: 1.85\n",
      "Tu indice de masa corporal es: 22.79\n"
     ]
    }
   ],
   "source": [
    "#### ejercicio 7, Escribir un programa que pida al usuario su peso (en kg) y estatura (en metros), calcule el índice de masa corporal y lo almacene en una variable, y muestre por pantalla la frase Tu índice de masa corporal es <imc> donde <imc> es el índice de masa corporal calculado redondeado con dos decimales.\n",
    "peso = float(input(\"porfavor ingrese su peso en kilogramos: \"));\n",
    "estatura = float(input(\"porfavor ingrese su estarua en metros: \"));\n",
    "IMC = round((peso / ((estatura)**2)),2); #usar función round para determinar la cantidad de decimales.\n",
    "print(\"Tu indice de masa corporal es: \" +str(IMC));"
   ]
  },
  {
   "cell_type": "code",
   "execution_count": 29,
   "id": "c871b112",
   "metadata": {},
   "outputs": [
    {
     "name": "stdout",
     "output_type": "stream",
     "text": [
      "porfavor ingrese el dividendo: 20\n",
      "porfavor ingrese el divisor: 5\n",
      "Tu residuo es 0.0, tu cociente es 4.0.\n"
     ]
    }
   ],
   "source": [
    "#### ejercicio 8, Escribir un programa que pida al usuario dos números enteros y muestre por pantalla la <n> entre <m> da un cociente <c> y un resto <r> donde <n> y <m> son los números introducidos por el usuario, y <c> y <r> son el cociente y el resto de la división entera respectivamente\n",
    "dividendo = float (input(\"porfavor ingrese el dividendo: \"));\n",
    "divisor = float (input(\"porfavor ingrese el divisor: \"))\n",
    "c = round (dividendo / divisor,2);\n",
    "r = round (dividendo % divisor,2);\n",
    "print(\"Tu residuo es \" +str(r) + \", tu cociente es \" +str(c)+\".\")\n"
   ]
  },
  {
   "cell_type": "code",
   "execution_count": 10,
   "id": "d5b5bd5a",
   "metadata": {},
   "outputs": [
    {
     "name": "stdout",
     "output_type": "stream",
     "text": [
      "ingrese la cantidad a invertir: 1000\n",
      "cuanto es el interes anual: 10\n",
      "cuantos años: 5\n",
      "Dinero obtenido: 1610.51.\n"
     ]
    }
   ],
   "source": [
    "#### ejercicio 9; Escribir un programa que pregunte al usuario una cantidad a invertir, el interés anual y el número de años, y muestre por pantalla el capital obtenido en la inversión.\n",
    "inversion = float (input(\"ingrese la cantidad a invertir: \"));\n",
    "interes = float (input(\"cuanto es el interes anual: \"));\n",
    "años = float (input(\"cuantos años: \"));\n",
    "# formula valor futuro de una inviersión: VF = M (1 + i)^n\n",
    "#VF = Valor Futuro, #M = Monto a invertir, #i = Interés, #N = Número de períodos\n",
    "capital = round((inversion * (((interes/100) + 1)**años)),2)\n",
    "print (\"Dinero obtenido: \" +str(capital)+\".\")"
   ]
  },
  {
   "cell_type": "code",
   "execution_count": 11,
   "id": "ec950be8",
   "metadata": {},
   "outputs": [
    {
     "name": "stdout",
     "output_type": "stream",
     "text": [
      "Cuantos payasos se vendieron: 10\n",
      "Cuantas muñecas se vendieron: 5\n",
      "El peso total del paquete es de :  1495.\n"
     ]
    }
   ],
   "source": [
    "#### ejercicio 10, Una juguetería tiene mucho éxito en dos de sus productos: payasos y muñecas. Suele hacer venta por correo y la empresa de logística les cobra por peso de cada paquete así que deben calcular el peso de los payasos y muñecas que saldrán en cada paquete a demanda. Cada payaso pesa 112 g y cada muñeca 75 g. Escribir un programa que lea el número de payasos y muñecas vendidos en el último pedido y calcule el peso total del paquete que será enviado\n",
    "payasos = int(input(\"Cuantos payasos se vendieron: \"));\n",
    "muñecas = int(input(\"Cuantas muñecas se vendieron: \"));\n",
    "peso_pay = (payasos * 112);\n",
    "peso_muñ = (muñecas * 75);\n",
    "t_peso = (peso_muñ + peso_pay);\n",
    "print(f\"El peso total del paquete es de :  {t_peso}.\")"
   ]
  },
  {
   "cell_type": "code",
   "execution_count": 13,
   "id": "44a2d5fc",
   "metadata": {},
   "outputs": [
    {
     "name": "stdout",
     "output_type": "stream",
     "text": [
      "Dinero depositado: 10\n",
      "la ganancias del año 1 es: 10.4\n",
      "la ganancias del año 2 es: 10.82\n",
      "la ganancias del año 3 es: 11.25\n"
     ]
    }
   ],
   "source": [
    "#### ejercicio 11, Imagina que acabas de abrir una nueva cuenta de ahorros que te ofrece el 4% de interés al año. Estos ahorros debido a intereses, que no se cobran hasta finales de año, se te añaden al balance final de tu cuenta de ahorros. Escribir un programa que comience leyendo la cantidad de dinero depositada en la cuenta de ahorros, introducida por el usuario. Después el programa debe calcular y mostrar por pantalla la cantidad de ahorros tras el primer, segundo y tercer años. Redondear cada cantidad a dos decimales.\n",
    "interes = 0.04;\n",
    "ahorro = float (input(\"Dinero depositado: \"))\n",
    "b1 = round((interes * ahorro) + ahorro,2);\n",
    "b2 = round((b1 * interes) + b1,2);\n",
    "b3 = round((b2 * interes) + b2,2);\n",
    "print(F\"la ganancias del año 1 es: {b1}\")\n",
    "print(F\"la ganancias del año 2 es: {b2}\")\n",
    "print(F\"la ganancias del año 3 es: {b3}\")"
   ]
  },
  {
   "cell_type": "code",
   "execution_count": 36,
   "id": "3ebbcd0a",
   "metadata": {},
   "outputs": [
    {
     "name": "stdout",
     "output_type": "stream",
     "text": [
      "cuantos panes desea llevar: 10\n",
      "el precio de las barras del día es de: 3.49 €.\n",
      "el precio que tiene la barras de pan, que No es del día es de 1.396 €.\n",
      "el total de si los panes son nuevos es de 34.9 € y si los panes no son del días el precio es de 13.96€\n"
     ]
    }
   ],
   "source": [
    "#### Ejercicio 12, Una panadería vende barras de pan a 3.49€ cada una. El pan que no es el día tiene un descuento del 60%. Escribir un programa que comience leyendo el número de barras vendidas que no son del día. Después el programa debe mostrar el precio habitual de una barra de pan, el descuento que se le hace por no ser fresca y el coste final total.\n",
    "cant_pan = int(input(\"cuantos panes desea llevar: \"));\n",
    "precio = 3.49;\n",
    "desc = round((precio-(0.6 * precio)),3);\n",
    "total_nuevo = round((cant_pan*precio),3);\n",
    "total_viejo = round((cant_pan*desc),3);\n",
    "print (F\"el precio de las barras del día es de: {precio} €.\");\n",
    "print (F\"el precio que tiene la barras de pan, que No es del día es de {desc} €.\");\n",
    "print (F\"el total de si los panes son nuevos es de {total_nuevo} € y si los panes no son del días el precio es de {total_viejo} €.\");"
   ]
  },
  {
   "cell_type": "code",
   "execution_count": null,
   "id": "0ad12d25",
   "metadata": {},
   "outputs": [],
   "source": []
  }
 ],
 "metadata": {
  "kernelspec": {
   "display_name": "Python 3 (ipykernel)",
   "language": "python",
   "name": "python3"
  },
  "language_info": {
   "codemirror_mode": {
    "name": "ipython",
    "version": 3
   },
   "file_extension": ".py",
   "mimetype": "text/x-python",
   "name": "python",
   "nbconvert_exporter": "python",
   "pygments_lexer": "ipython3",
   "version": "3.9.7"
  }
 },
 "nbformat": 4,
 "nbformat_minor": 5
}
